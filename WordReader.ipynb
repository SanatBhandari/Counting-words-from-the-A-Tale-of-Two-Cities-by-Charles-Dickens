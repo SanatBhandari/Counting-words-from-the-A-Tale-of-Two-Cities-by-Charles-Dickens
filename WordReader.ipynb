import collections 

file = open('98-0.txt', encoding="utf-8-sig")

from collections import Counter

wordcount = Counter(file.read().split())
d = collections.Counter(wordcount)

for item in d.most_common(10):
    print("{}\t{}".format(*item))
